{
  "cells": [
    {
      "cell_type": "code",
      "execution_count": null,
      "metadata": {
        "id": "ucWCd9noY49x"
      },
      "outputs": [],
      "source": [
        "# feature (1 sim, 0 não)\n",
        "# pelo longo?\n",
        "# perna curta?\n",
        "# faz auau?\n",
        "porco1 = [0, 1, 0]\n",
        "porco2 = [0, 1, 1]\n",
        "porco3 = [1, 1, 0]\n",
        "\n",
        "cachorro1 = [0, 1, 1]\n",
        "cachorro2 = [1, 0, 1]\n",
        "cachorro3 = [1, 1, 1]\n",
        "\n",
        "dados = [porco1, porco2, porco3, cachorro1, cachorro2, cachorro3]\n",
        "# 1 => porco, 0 => cachorro\n",
        "classes = [1, 1, 1, 0, 0, 0]"
      ]
    },
    {
      "cell_type": "code",
      "execution_count": null,
      "metadata": {
        "colab": {
          "base_uri": "https://localhost:8080/"
        },
        "id": "n59yEiuGcL30",
        "outputId": "8301ec00-abfc-4fce-b1cc-38a4a83ebfe0"
      },
      "outputs": [],
      "source": [
        "# estimador\n",
        "from sklearn.svm import LinearSVC\n",
        "\n",
        "modelo = LinearSVC()\n",
        "# treinando\n",
        "# como é supervisionado, nós contamos pra ele quais são as respostas\n",
        "modelo.fit(dados, classes)"
      ]
    },
    {
      "cell_type": "code",
      "execution_count": null,
      "metadata": {
        "colab": {
          "base_uri": "https://localhost:8080/"
        },
        "id": "qaUKbW0ucyvg",
        "outputId": "a851b53a-fdc5-4b4e-fbd5-4cbca3478c5f"
      },
      "outputs": [],
      "source": [
        "# testando para ver se o modelo aprendeu\n",
        "animal_misterioso = [1, 1, 1]\n",
        "modelo.predict([animal_misterioso])"
      ]
    },
    {
      "cell_type": "code",
      "execution_count": null,
      "metadata": {
        "id": "SBqMn7ZsdAeg"
      },
      "outputs": [],
      "source": [
        "# testando vários\n",
        "misterio1 = [1, 1, 1]\n",
        "misterio2 = [1, 1, 0]\n",
        "misterio3 = [0, 1, 1]\n",
        "\n",
        "# ele sempre espera um array de 2 dimensões\n",
        "teste = [misterio1, misterio2, misterio3]\n",
        "previsoes = modelo.predict(teste)"
      ]
    },
    {
      "cell_type": "code",
      "execution_count": null,
      "metadata": {
        "colab": {
          "base_uri": "https://localhost:8080/"
        },
        "id": "zEFlbaNkduRn",
        "outputId": "c0f788e0-720d-4d12-c87a-83cf38c10e12"
      },
      "outputs": [],
      "source": [
        "# na verdade nós sabiamos que animais eram, vamos ver quanto o modelo acertou\n",
        "testes_classes = [0, 1, 1]\n",
        "\n",
        "from sklearn.metrics import accuracy_score\n",
        "\n",
        "taxa_de_acerto = accuracy_score(testes_classes, previsoes)\n",
        "print(f'Taxa de acerto: {taxa_de_acerto * 100}')"
      ]
    }
  ],
  "metadata": {
    "colab": {
      "collapsed_sections": [],
      "name": "machine_learning_classificacao_1.ipynb",
      "provenance": []
    },
    "interpreter": {
      "hash": "27f6fea6f47ae512550f0b8facdbd035a93e1dd89633f7bf2dd00a2502c71d0d"
    },
    "kernelspec": {
      "display_name": "Python 3.10.4 64-bit",
      "language": "python",
      "name": "python3"
    },
    "language_info": {
      "codemirror_mode": {
        "name": "ipython",
        "version": 3
      },
      "file_extension": ".py",
      "mimetype": "text/x-python",
      "name": "python",
      "nbconvert_exporter": "python",
      "pygments_lexer": "ipython3",
      "version": "3.10.4"
    }
  },
  "nbformat": 4,
  "nbformat_minor": 0
}
